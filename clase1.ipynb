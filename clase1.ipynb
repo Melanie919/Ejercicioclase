{
 "cells": [
  {
   "cell_type": "code",
   "execution_count": null,
   "id": "b5fb36b6",
   "metadata": {},
   "outputs": [],
   "source": [
    "mi_nombre = input('Ingresa tu nombre: ')\n",
    "print('Hola', mi_nombre)"
   ]
  },
  {
   "cell_type": "code",
   "execution_count": 7,
   "id": "8a17a907",
   "metadata": {},
   "outputs": [
    {
     "name": "stdout",
     "output_type": "stream",
     "text": [
      "Hola Melanie\n"
     ]
    }
   ],
   "source": [
    "mi_nombre = \"Melanie\" \n",
    "print('Hola', mi_nombre)\n"
   ]
  },
  {
   "cell_type": "markdown",
   "id": "073ed413",
   "metadata": {},
   "source": [
    "#Hola\n"
   ]
  },
  {
   "cell_type": "code",
   "execution_count": 2,
   "id": "93f8588f",
   "metadata": {},
   "outputs": [
    {
     "name": "stdout",
     "output_type": "stream",
     "text": [
      "Hola Mundo\n"
     ]
    }
   ],
   "source": [
    "print('Hola Mundo')\n"
   ]
  }
 ],
 "metadata": {
  "kernelspec": {
   "display_name": "Python 3",
   "language": "python",
   "name": "python3"
  },
  "language_info": {
   "codemirror_mode": {
    "name": "ipython",
    "version": 3
   },
   "file_extension": ".py",
   "mimetype": "text/x-python",
   "name": "python",
   "nbconvert_exporter": "python",
   "pygments_lexer": "ipython3",
   "version": "3.9.6"
  }
 },
 "nbformat": 4,
 "nbformat_minor": 5
}
